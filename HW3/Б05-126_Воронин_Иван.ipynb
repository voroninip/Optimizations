{
 "cells": [
  {
   "cell_type": "markdown",
   "metadata": {},
   "source": [
    "# Домашнее задание 3\n",
    "\n",
    "Это домашнее задание по материалам 6-8 недели семестра (6-8 лекции и 5-7 семинары). Дедлайн по отправке - 23:59 12 ноября.\n",
    "\n",
    "- Домашнее задание выполняется в этом же Jupyter Notebook'e.\n",
    "\n",
    "- Файл необходимо переименовать: __Номер группы_Фамилия_Имя__ (без пробелов в начале и конце). Пример: __Б05-100_Иванов_Иван__.\n",
    "\n",
    "- ДЗ нужно отправлять на __OptimizationHomework@yandex.ru__. Тема письма: __МФТИ_номер задания__ (без пробелов в начале и конце). Для данного ДЗ тема письма: __МФТИ_3__.\n",
    "\n",
    "- Для решения можно использовать Google Colab, но присылать нужно не ссылку на Colab, а готовый notebook и все необходимые дополнительные файлы.\n",
    "\n",
    "- Решение каждой задачи/пункта задачи поместите после условия.\n",
    "\n",
    "- Не забывайте добавлять необходимые пояснения и комментарии.\n",
    "\n",
    "- В финальной версии, которая будет отправлена на проверку, должны быть удалены все отладочные артефакты. Под таким артефактами подразумеваются любые выводы ячеек, которые никак не прокоментированы в тексте, а также любой массовый/длинный технический вывод (даже если он прокомментирован в тексте).\n",
    "\n",
    "- При полном запуске решения (Kernel -> Restart & Run All) все ячейки должны выполняться без ошибок.\n",
    "\n",
    "- Максимальный балл за задание 120. Для получения полного балла нужно набрать 100. Баллы вниз не округляются.\n",
    "\n",
    "- Часть задач помечена $\\triangle$. Они также входят в максимальный балл за задание, а значит являются обязательными для получения максимальной оценки, но мы считаем, что достаточно выполнить задания без $\\triangle$, чтобы вникнуть в основные вещи, происходящие в соотвествующей части задания.\n",
    "\n",
    "Желаем успехов!"
   ],
   "id": "68724b303dafa077"
  },
  {
   "cell_type": "markdown",
   "metadata": {},
   "source": [
    "### Часть 1. Снова логистическая регрессия\n",
    "\n",
    "Рассмотрим задачу минимизации эмпирического риска (да-да, machine learning):\n",
    "\\begin{equation}\n",
    "\\min_{w \\in \\mathcal{X} \\subset \\mathbb{R}^d} \\frac{1}{n} \\sum\\limits_{i=1}^n \\ell (g(w, x_i), y_i),\n",
    "\\end{equation}\n",
    "где $\\ell: \\mathbb{R} \\times \\mathbb{R} \\to \\mathbb{R}$ - функция потерь, $g : \\mathbb{R}^d \\times \\mathbb{R}^x \\to \\mathbb{R}$ - модель, $w$ - параметры модели, $\\{x_i, y_i\\}_{i=1}^n$ - выборка данных из векторов признаков $x_i \\in \\mathbb{R}^x$ и меток $y_i \\in \\mathbb{R}$.\n",
    "\n",
    "Используем линейную модель $g(w, x) = w^T x$ и логистическую/сигмоидную функцию потерь: $\\ell(z,y) = \\ln (1 + \\exp(-yz))$ (__Важно: $y$ должен принимать значения $-1$ или $1$__). Полученная задача называется задачей логистической регрессии. \n",
    "\n",
    "В качестве множества $\\mathcal{X}$ возьмем $\\ell_1$-шар с центром в 0 и радиуса $R$ (параметр, которые можно менять): $\\mathcal{X} =\\{x \\in \\mathbb{R}^d \\mid \\| x \\|_1 \\leq R \\}$.\n",
    "\n",
    "__Отличия от прошлого домашнего задания:__ убрали регуляризатор, добавили множество $\\mathcal{X}$.\n",
    "\n",
    "Градиент для нашей целевой функции:\n",
    "$$\n",
    "\\frac{1}{n} \\sum_{i=1}^n \\frac{-y_i x_i}{1 + \\exp(y_i w^Tx_i)}.\n",
    "$$\n",
    "В качестве константы Липшица нашей целевой функции можно брать $L = \\frac{1}{4n} \\sum\\limits_{i=1}^n \\| x_i \\|^2_2$."
   ],
   "id": "d793dc411221e4bc"
  },
  {
   "cell_type": "markdown",
   "metadata": {},
   "source": [
    "К заданию приложен датасет _mushrooms_. С помощью следующего кода сформируйте матрицу $X$ и вектор $y$, в которой и будет храниться выборка $\\{x_i, y_i\\}_{i=1}^n$:"
   ],
   "id": "fbd71a842310be79"
  },
  {
   "cell_type": "code",
   "execution_count": 21,
   "metadata": {
    "ExecuteTime": {
     "end_time": "2023-11-12T21:00:14.758954700Z",
     "start_time": "2023-11-12T21:00:14.229904400Z"
    }
   },
   "outputs": [],
   "source": [
    "dataset = \"mushrooms.txt\" \n",
    "#файл должен лежать в той же директории, что и notebook"
   ],
   "id": "4de49fae1c1d9a78"
  },
  {
   "cell_type": "code",
   "execution_count": 22,
   "metadata": {
    "ExecuteTime": {
     "end_time": "2023-11-12T21:00:14.967977Z",
     "start_time": "2023-11-12T21:00:14.233418700Z"
    }
   },
   "outputs": [],
   "source": [
    "from sklearn.datasets import load_svmlight_file\n",
    "data = load_svmlight_file(dataset)\n",
    "X, y = data[0].toarray(), data[1]"
   ],
   "id": "e7ac996eafed27b2"
  },
  {
   "cell_type": "markdown",
   "metadata": {},
   "source": [
    "Поменяем вектор $y$, чтобы $y_i$ принимали значения $-1$ и $1$. Вы также можете сделать дополнительную предобработку данных (приемами из машинного обучения), но это никак дополнительно не оценивается."
   ],
   "id": "cc99fcdd47483e18"
  },
  {
   "cell_type": "code",
   "execution_count": 23,
   "metadata": {
    "ExecuteTime": {
     "end_time": "2023-11-12T21:00:14.967977Z",
     "start_time": "2023-11-12T21:00:14.319649300Z"
    }
   },
   "outputs": [],
   "source": [
    "y = 2 * y - 3"
   ],
   "id": "b2523a0cc3120b6"
  },
  {
   "cell_type": "markdown",
   "metadata": {},
   "source": [
    "Разделим данные на две части: обучающую и тестовую."
   ],
   "id": "3fe4e8bd853e3c14"
  },
  {
   "cell_type": "code",
   "execution_count": 24,
   "metadata": {
    "ExecuteTime": {
     "end_time": "2023-11-12T21:00:14.967977Z",
     "start_time": "2023-11-12T21:00:14.324167700Z"
    }
   },
   "outputs": [],
   "source": [
    "from sklearn.model_selection import train_test_split\n",
    "X_train, X_test, y_train, y_test = train_test_split(X, y, test_size=0.2, random_state=42)"
   ],
   "id": "543bd41ecd640b35"
  },
  {
   "cell_type": "markdown",
   "metadata": {},
   "source": [
    "Для обучающей части $X_{train}$, $y_{train}$ оцените константу $L$. Реализуйте в коде подсчет значения и градиента нашей целевой функции ($X$, $y$ лучше подавать в качестве параметра, чтобы была возможность их менять, а не только подставлять фиксированные $X_{train}$, $y_{train}$). Можно использовать как библиотеку ``numpy``, так и библиотеки ``autograd``, ``pytorch``, ``jax``."
   ],
   "id": "d293ffdd6ee08c2"
  },
  {
   "cell_type": "code",
   "execution_count": 25,
   "metadata": {
    "ExecuteTime": {
     "end_time": "2023-11-12T21:00:14.967977Z",
     "start_time": "2023-11-12T21:00:14.333046600Z"
    }
   },
   "outputs": [],
   "source": [
    "import autograd.numpy as np\n",
    "import autograd as ad\n",
    "from matplotlib import pyplot as plt"
   ],
   "id": "419328a076d8fd19"
  },
  {
   "cell_type": "code",
   "execution_count": 26,
   "metadata": {
    "ExecuteTime": {
     "end_time": "2023-11-12T21:00:14.968976300Z",
     "start_time": "2023-11-12T21:00:14.338044300Z"
    }
   },
   "outputs": [],
   "source": [
    "def get_lip(X):\n",
    "    return np.sum(X ** 2) / (4 * X.shape[0])\n",
    "\n",
    "def g(w, x):\n",
    "    return np.dot(x, w)\n",
    "\n",
    "def loss(z, y):\n",
    "    return np.log(1 + np.exp(-y * z))\n",
    "\n",
    "def mre_value(x, y, w):\n",
    "    return np.mean(loss(g(w, x), y))\n",
    "\n",
    "def mre_func(x, y):\n",
    "    return lambda w: mre_value(x, y, w)\n",
    "\n",
    "def mre_grad(w, x=X_train, y=y_train):\n",
    "    return ad.grad(mre_func(x, y))(w)"
   ],
   "id": "7ed9881067d64f4e"
  },
  {
   "cell_type": "code",
   "execution_count": 27,
   "metadata": {
    "ExecuteTime": {
     "end_time": "2023-11-12T21:00:14.968976300Z",
     "start_time": "2023-11-12T21:00:14.342004Z"
    }
   },
   "outputs": [
    {
     "data": {
      "text/plain": [
       "5.25"
      ]
     },
     "execution_count": 27,
     "metadata": {},
     "output_type": "execute_result"
    }
   ],
   "source": [
    "Lip = get_lip(X_train)\n",
    "Lip"
   ],
   "id": "25280ffba1faa7e2"
  },
  {
   "cell_type": "markdown",
   "metadata": {},
   "source": [
    "__Задача. (всего 33 балла)__ Так как мы теперь решаем задачу оптимизации на шаре, необходимы методы, учитывающие это.\n",
    "\n",
    "__а). (3 балла)__ Для $\\ell_1$-шара с центром в 0 и радиуса $R$ найдите выражение для решения задачи линейной оптимизации при заданном векторе $g \\in \\mathbb{R}^d$:\n",
    "$$\n",
    "s^* = \\arg \\min_{s \\in \\mathcal{X}} \\langle s, g \\rangle.\n",
    "$$\n",
    "\n",
    "Формально обоснуйте свой ответ, например, можно (необязательно именно так) использовать условия ККТ.\n",
    "\n",
    "__а). (3 балла)__ Реализуйте отдельно решение задачи линейной оптимизации из предыдущего пункта (радиус шара $R$ лучше передавать в качестве параметра). Реализуйте метод Франк-Вульфа для нашей задачи. Для заданий далее может понадобиться возможность замерять время работы метода. Советуем также следующим образом брать шаг в алгоритме: если итерации нумеруются с 0, то $\\gamma = \\frac{2}{k+3}$, если итерации нумеруются с 1, то $\\gamma = \\frac{2}{k+2}$."
   ],
   "id": "d0a7dec489ec74a2"
  },
  {
   "cell_type": "code",
   "execution_count": 28,
   "metadata": {
    "ExecuteTime": {
     "end_time": "2023-11-12T21:00:14.968976300Z",
     "start_time": "2023-11-12T21:00:14.349637Z"
    }
   },
   "outputs": [],
   "source": [
    "#ваше решение (Code и Markdown)"
   ],
   "id": "2cda856ac513b73"
  },
  {
   "cell_type": "markdown",
   "metadata": {},
   "source": [
    "__б). (5 баллов)__ Решите задачу оптимизации на обучающей выборке с помощью реализованного методов. Возьмите $R = 5$ и стратовую точку в $0$. В качестве критерия используйте следующее выражение:\n",
    "$$\n",
    "\\text{gap}(w^k) = \\max_{y \\in \\mathcal{X}} \\langle \\nabla f(w^k), w^k - y \\rangle,\n",
    "$$\n",
    "или усредненную версию $\\frac{1}{k} \\sum_{i=1}^k \\text{gap}(w^i)$. Такой критерий используем, так как не знаем значение $f^*$ и не можем гарантировать, что $\\nabla f(w^*) = 0$. Но можно показать, что $\\text{gap}(w^k) \\geq f(w^k) - f^*$, а также доаказать сходимость метода Франк-Вульфа по такому критерию, а значит сходимость по $\\text{gap}(w^k)$ и дает хорошее понимание о поведении $f(w^k) - f^*$.\n",
    "\n",
    "Постройте график сходимости: значение критерия сходимости от номера итерации."
   ],
   "id": "4faa1901a0053284"
  },
  {
   "cell_type": "code",
   "execution_count": 29,
   "metadata": {
    "ExecuteTime": {
     "end_time": "2023-11-12T21:00:14.968976300Z",
     "start_time": "2023-11-12T21:00:14.353636800Z"
    }
   },
   "outputs": [],
   "source": [
    "#ваше решение (Code и Markdown)"
   ],
   "id": "dda3181085e5f0fe"
  },
  {
   "cell_type": "markdown",
   "metadata": {},
   "source": [
    "Вывидите решение, полученный с помощью метода Франк-Вульфа. Что необычного увидели? Для большей наглядности можете воспользоваться методом Нестерова из прошлого задания и решить с помощью него безусловную задачу (на $\\mathbb{R}^d$) без регуляризатора. Сделайте вывод."
   ],
   "id": "334649b748383e25"
  },
  {
   "cell_type": "code",
   "execution_count": 30,
   "metadata": {
    "ExecuteTime": {
     "end_time": "2023-11-12T21:00:14.969976Z",
     "start_time": "2023-11-12T21:00:14.358383300Z"
    }
   },
   "outputs": [],
   "source": [
    "#ваше решение (Code и Markdown)"
   ],
   "id": "54cb51e69f94c56f"
  },
  {
   "cell_type": "markdown",
   "metadata": {},
   "source": [
    "__в). $\\triangle$ (7 баллов)__ В прошлом задании мы, используя полученное решения задачи оптимизации, предсказывали ответы на тестовой выборке. Напомним суть: исходная задача регрессии является задачой машинного обучения и с помощью линейной модели $g$ можно предсказывать значения меток $y$. Пусть у нас есть сэмпл $x_i$, ответ модели для этого сэмпла есть $g(w^*, x^i)$. Тогда предсказывающее правило можно сформулировать следующим довольно естественным образом:\n",
    "$$\n",
    "y_i = \n",
    "\\begin{cases}\n",
    "1, & g(w^*, x^i) \\geq 0,\n",
    "\\\\\n",
    "-1,\\ & g(w^*, x^i) < 0.\n",
    "\\end{cases}\n",
    "$$\n",
    "Cделав предсказания на тестовой выборке $X_{test}$, можно сравните результат с реальными метками $y_{test}$. Количество правильно угаданных меток есть точность/accuracy модели.\n",
    "\n",
    "Посмотрите какую дает модель обученная с помощью метода Франк-Вульфа. Варьируйте $R = 5, 10, 20, 50, 100, 1000$. Постройте три графика: 1) точность итоговой модели от $R$, 2) количество ненулевых компонент в итоговом решении метода Франк-Вульфа от $R$, 3) точность от количества ненулевых компонент в итоговом решении. Сделайте вывод"
   ],
   "id": "cfc3fb6c3f8a90d1"
  },
  {
   "cell_type": "code",
   "execution_count": 31,
   "metadata": {
    "ExecuteTime": {
     "end_time": "2023-11-12T21:00:14.969976Z",
     "start_time": "2023-11-12T21:00:14.366117400Z"
    }
   },
   "outputs": [],
   "source": [
    "#ваше решение (Code и Markdown)"
   ],
   "id": "ab617230850d7869"
  },
  {
   "cell_type": "markdown",
   "metadata": {},
   "source": [
    "__г). $\\triangle$ (15 баллов)__ Нашу задачу можнно решать и с помощью метода градиентного спуска с евклидовой проекцией. Для этого нужно уметь делать проекцию на $\\ell_1$-шар. Найдите способ сделать проекцию в Интернете, достаточно загуглить: \"projection onto l1 ball\". Изложите здесь суть найденнного подхода (приложите ссылку откуда берете подход) и реализуйте его в коде."
   ],
   "id": "74ba7fbd1cd5675c"
  },
  {
   "cell_type": "code",
   "execution_count": 32,
   "metadata": {
    "ExecuteTime": {
     "end_time": "2023-11-12T21:00:14.969976Z",
     "start_time": "2023-11-12T21:00:14.369115100Z"
    }
   },
   "outputs": [],
   "source": [
    "#ваше решение (Code и Markdown)"
   ],
   "id": "5aa958e01da695d6"
  },
  {
   "cell_type": "markdown",
   "metadata": {},
   "source": [
    "Решите задачу оптимизации на обучающей выборке с помощью градиентного спуска с евклидовой проекцией. Сравните на графиках сходимость градиентного спуска и метода Франк-Вульфа: 1) значение критерия от номера итерации, 2) значение критерия от времени. Сделайте вывод."
   ],
   "id": "887e35dea932f7e0"
  },
  {
   "cell_type": "code",
   "execution_count": 33,
   "metadata": {
    "ExecuteTime": {
     "end_time": "2023-11-12T21:00:14.969976Z",
     "start_time": "2023-11-12T21:00:14.373636Z"
    }
   },
   "outputs": [],
   "source": [
    "#ваше решение (Code и Markdown)"
   ],
   "id": "f251fe185853a8a5"
  },
  {
   "cell_type": "markdown",
   "metadata": {},
   "source": [
    "### Часть 2. Сопряженность. Двойственность. ККТ\n",
    "\n",
    "__Задача 1. (15 балла)__ Для каждой из следующих функций $f$ вычислите сопряженную функцию $f^*$:\n",
    "\n",
    "__а). (4 балла)__ $f: \\mathbb{R}^d_+ \\to \\mathbb{R}$, где $f(x) = - \\l(\\prod_{i=1}^d x_i\\r)^{1/d}$, а $\\mathbb{R}^d_+$ - векторы с неотрицательными компонентами."
   ],
   "id": "8133e4c680eb65e9"
  },
  {
   "cell_type": "markdown",
   "metadata": {},
   "source": [
    "$\\usepackage{amsfonts}$\n",
    "$\\usepackage{amsmath}$\n",
    "$\\usepackage{amssymb}$\n",
    "$\\usepackage{amsthm}$\n",
    "$\\usepackage{eufrak}$\n",
    "$\\usepackage[left=10mm, top=15mm, right=10mm, bottom=20mm]{geometry}$\n",
    "$\\usepackage[T2A]{fontenc}$\n",
    "$\\usepackage[english, russian]{babel}$\n",
    "$\\usepackage[utf8]{inputenc}$\n",
    "\n",
    "$\\newcommand{\\epsilon}{\\varepsilon}$\n",
    "$\\newcommand{\\phi}{\\varphi}$\n",
    "$\\newcommand{\\kappa}{\\varkappa}$\n",
    "$\\newcommand{\\le}{\\ \\leqslant\\ }$\n",
    "$\\newcommand{\\ge}{\\ \\geqslant\\ }$\n",
    "$\\newcommand{\\emptyset}{\\varnothing}$\n",
    "$\\newcommand{\\qed}{\\hspace{1cm} \\blacktriangleright}$\n",
    "$\\newcommand{\\d}{\\partial}$\n",
    "$\\newcommand{\\grad}{\\nabla}$\n",
    "$\\newcommand{\\l}{\\left}$\n",
    "$\\newcommand{\\r}{\\right}$\n",
    "$\\newcommand{\\la}{\\langle}$\n",
    "$\\newcommand{\\ra}{\\rangle}$\n",
    "$\\renewcommand{\\t}{\\text}$\n",
    "$\\newcommand{\\inf}{\\infty}$"
   ],
   "id": "1524296676a3b5aa"
  },
  {
   "cell_type": "markdown",
   "metadata": {},
   "source": [
    "Покажем, что \n",
    "$$f^*(y) =\n",
    "\\begin{cases}\n",
    "0\\hspace{0.7cm} \\t{ при } y \\prec 0,\\ \\l(\\prod_{i=1}^d (-y_i)\\r)^{\\frac{1}{d}} \\ge \\frac{1}{d}\\\\\n",
    "+\\infty\\hspace{0.3cm} \\t{ иначе}\n",
    "\\end{cases}$$\n",
    "$$f^*(y) = \\sup_{x\\in \\mathbb{R}_+^d}\\{\\langle  x, y\\rangle - f(x)\\} = \\sup_{x\\in \\mathbb{R}_+^d}\\l\\{\\sum_{i=1}^d x_iy_i + \\l(\\prod_{i=1}^d x_i\\r)^{\\frac{1}{d}}\\r\\}$$\n",
    "Заметим, что при $y \\not\\prec 0$ функция $f^*(y)$ неограничена. \n",
    "В самом деле, в этом случае достаточно зафиксировать ту самую координату $y_k\\ge 0$ и взять вектор $x$ с  координатами  $x_k = t > 0$  и $x_i = 1$ при $i \\neq k$ . Имеем:\n",
    "$$F(t) = \\sum_{i=1}^d x_iy_i + \\l(\\prod_{i=1}^d x_i\\r)^{\\frac{1}{d}} = \\sum_{i\\neq k} y_i + ty_k + t^{\\frac{1}{d}} \\to +\\infty,\\ \\text{ при } t \\to +\\infty$$\n",
    "Теперь пусть $y \\prec 0$, но $\\l(\\prod_{i=1}^d (-y_i)\\r)^{\\frac{1}{d}} < \\frac{1}{d}$. Возьмём $x_i = -\\frac{t}{y_i},\\ t > 0$. Получим:\n",
    "$$F(t) = -td + \\dfrac{t}{\\l(\\prod_{i=1}^d (-y_i)\\r)^{\\frac{1}{d}}} = t\\cdot \\l(\\dfrac{1}{\\l(\\prod_{i=1}^d (-y_i)\\r)^{\\frac{1}{d}}} - d\\r) \\to +\\inf, \\t{ при } t \\to +\\inf$$\n",
    "Наконец, пусть $y \\prec 0$ и $\\l(\\prod_{i=1}^d (-y_i)\\r)^{\\frac{1}{d}} \\ge \\frac{1}{d}$.  По условию $x \\succeq 0$, откуда по неравенству между средним арифметическим и средним геометрическим имеем\n",
    "$$\\dfrac{\\sum_{i=1}^d (-y_ix_i)}{d} \\ge \\l(\\prod_{i=1}^d (-y_ix_i)\\r)^{\\frac{1}{d}} \\ge \\dfrac{1}{d}\\l(\\prod_{i=1}^d x_i\\r)^{\\frac{1}{d}}$$\n",
    "Так что \n",
    "$$\\sup_{x\\in \\mathbb{R}_+^d}\\l\\{\\sum_{i=1}^d x_iy_i + \\l(\\prod_{i=1}^d x_i\\r)^{\\frac{1}{d}}\\r\\} \\le 0$$\n",
    "и равенство выполнено при $x = 0$."
   ],
   "id": "9ff6650aa1748241"
  },
  {
   "cell_type": "markdown",
   "metadata": {},
   "source": [
    "__КОММЕНТАРИЙ: 4/4 баллов__"
   ],
   "id": "89840b4abc181912"
  },
  {
   "cell_type": "markdown",
   "metadata": {},
   "source": [
    "__б). (5 баллов)__ $f: \\mathbb{R}^d \\to \\mathbb{R}$, где $f(x) = \\max_{i=1,\\dots, d}\\{x_i\\}$."
   ],
   "id": "6c62aaee5a556dfd"
  },
  {
   "cell_type": "markdown",
   "metadata": {},
   "source": [
    "Покажем, что \n",
    "$$f^*(y) =\n",
    "\\begin{cases}\n",
    "0\\hspace{0.7cm} \\t{ при } y \\succeq 0,\\ \\sum_{i=1}^d y_i = 1\\\\\n",
    "+\\infty \\hspace{0.5cm} \\t{ иначе}\n",
    "\\end{cases}$$\n",
    "$$f^*(y) = \\sup_{x\\in \\mathbb{R}_+^d}\\{\\langle  x, y\\rangle - f(x)\\} = \\sup_{x\\in \\mathbb{R}_+^d}\\l\\{\\sum_{i=1}^d x_iy_i - \\max_{i \\in \\{1, \\ldots, d\\}}x_i\\r\\}$$\n",
    "Заметим, что при $y \\not\\succeq 0$ функция $f^*(y)$ неограничена. \n",
    "В самом деле, в этом случае достаточно зафиксировать ту самую координату $y_k < 0$ и взять вектор $x$ с  координатами  $x_i = 0$ при $i \\neq k$ и $x_k = t < 0$. Имеем:\n",
    "$$F(t) := \\sum_{i=1}^d x_iy_i - \\max_{i \\in \\{1, \\ldots, d\\}}x_i = t\\cdot y_k \\to +\\infty,\\text{ при } t \\to -\\infty$$\n",
    "Откуда заключаем неограниченность.\n",
    "Теперь, пусть $y \\succeq 0$,  но $\\sum_{i=1}^d y_i > 1$. Расмотрим $x :\\ \\forall i \\in \\{1, \\ldots, d\\}\\ x_i = t > 0$.\n",
    "Тогда \n",
    "$$F(t) = t\\cdot\\sum_{i=1}^d y_i - t = t \\cdot \\l(\\sum_{i=1}^d y_i - 1\\r) \\to +\\infty,\\ \\t{ при } t \\to +\\infty$$ \n",
    "Аналогично, при $\\sum_{i=1}^d y_i < 1$ при $t < 0$.\n",
    "Наконец, при $\\sum_{i=1}^d y_i = 1$ и $y \\succeq 0$ имеем \n",
    "$$\\sum_{i=1}^d x_iy_i \\le \\max_{i \\in \\{1, \\ldots, d\\}}x_i$$\n",
    "\n",
    "Так что\n",
    "$$f^*(y) = \\sup_{x\\in \\mathbb{R}_+^d}\\l\\{\\sum_{i=1}^d x_iy_i - \\max_{i \\in \\{1, \\ldots, d\\}}x_i\\r\\} \\le 0$$\n",
    "И равенство достигается при $x=0$."
   ],
   "id": "7658370ddb681fef"
  },
  {
   "cell_type": "markdown",
   "metadata": {},
   "source": [
    "__КОММЕНТАРИЙ: 5/5 баллов__"
   ],
   "id": "f5a429c6b284b18e"
  },
  {
   "cell_type": "markdown",
   "metadata": {},
   "source": [
    "__в). (6 баллов)__ $f: \\mathbb{S}^d_{++} \\to \\mathbb{R}$, где $f(X) = \\text{Tr}(X^{-1})$ и $\\mathbb{S}^d_{++}$ - положительно определенные матрицы."
   ],
   "id": "5b15041b683bdf57"
  },
  {
   "cell_type": "markdown",
   "metadata": {},
   "source": [
    "Покажем, что \n",
    "$$f^*(Y) = -2Tr(-Y)^\\frac{1}{2},\\hspace{0.7cm} domf^* = -S_+^d$$\n",
    "$$f^*(Y) = \\sup_{X\\in \\mathbb{S}_{++}^d}\\{\\langle X, Y\\rangle - f(x)\\} = \\sup_{X\\in \\mathbb{S}_{++}^d} \\l\\{Tr(X^T Y) - Tr(X^{-1})\\r\\} = \\sup_{X\\in \\mathbb{S}_{++}^d} \\l\\{Tr(XY) - Tr(X^{-1})\\r\\}$$\n",
    "Пусть $Y$ имеет сингулярное разложение вида:\n",
    "$$Y = Q\\Lambda Q^T = \\sum_{i=1}^d \\lambda_iq_iq_i^T$$\n",
    "где $\\lambda_1 > 0$. Пусть $X = Q\\cdot diag(t, 1, \\ldots, 1)\\cdot Q^T = tq_1q_1^T + \\sum{i=2}^d q_iq_i^T$. Имеем\n",
    "$$Tr(XY) - Tr(X^{-1}) = t\\lambda_1 + \\sum_{i=2}^d \\lambda_i - \\dfrac{1}{t} - (d-1) \\to +\\infty, \\t{ при } t \\to +\\infty$$\n",
    "Пусть теперь $Y \\preceq 0$. Если более того $Y \\prec 0$ имеем\n",
    "$$\\nabla \\l(\\langle X, Y \\rangle - f(X)\\r) = \\nabla \\l(Tr(XY) - Tr(X^{-1})\\r) = \\nabla \\l(Tr(YX) - Tr(X^{-1})\\r) = Y + X^{-2}$$\n",
    "Откуда в точке максимума $Y = -X^{-2}$ , то есть $X = (-Y)^{-\\frac{1}{2}}$\n",
    "Тогда $f^*(Y) = -2\\cdot Tr(-Y)^{-\\frac{1}{2}}$\n",
    "Наконец, в общем случае при $Y \\preceq 0$ вырожденной имеем справедливость тождества выше из замкнутости сопряжённой функции."
   ],
   "id": "728c278c66100164"
  },
  {
   "cell_type": "markdown",
   "metadata": {},
   "source": [
    "__КОММЕНТАРИЙ: 6/6 баллов__"
   ],
   "id": "4600458c52f9fac1"
  },
  {
   "cell_type": "markdown",
   "metadata": {},
   "source": [
    "__Задача 2. (4 балла)__ Построите двойственную задачу для следующей задачи оптимизации: \n",
    "\\begin{align*}\n",
    "        \\min_{x} \\ -\\sum\\limits_{i=1}^m \\log (b_i - a_i^Tx)\n",
    "\\end{align*}\n",
    "с областью определения $\\{x \\in \\mathbb{R}^d \\ | \\ a_i^Tx < b_i \\ \\forall i = 1\\ldots m\\}$. \n",
    "\n",
    "_Hint:_ Сначала введите дополнительные переменные $y_i$ и ограничения $y_i = b_i - a_i^Tx$."
   ],
   "id": "ab9ebd1385722a8c"
  },
  {
   "cell_type": "markdown",
   "metadata": {},
   "source": [
    "$$f(x) = -\\sum_{i=1}^m \\log(b_i - a_i^Tx), \\hspace{1cm} dom f = \\{x \\in \\mathbb{R}^d \\ |\\ Ax \\prec b\\}$$\n",
    "Введём обозначения $y_i = b_i - a_i^Tx$   и   перепишем задачу в виде\n",
    "\n",
    "$L(x, y, \\nu) = -\\sum_{i=1}^m \\log(y_i) + \\sum_{i=1}^m \\nu_i (a_i^Tx + y_i - b_i)$.\n",
    "\n",
    "$\\frac{\\partial L}{\\partial x} = \\sum_{i=1}^m \\nu_i a_i = 0$.\n",
    "\n",
    "\n",
    "$ \\frac{\\partial L}{\\partial y_i} = -\\frac{1}{y_i} + \\nu_i = 0 \\rightarrow \\nu_i = \\frac{1}{y_i}$.\n",
    "\n",
    "Получим двойственную функцию $g(\\nu)$, подставив выражения выше:\n",
    "$g(\\nu) = m + \\sum_{i=1}^m \\log(\\nu_i) - \\sum_{i=1}^m \\nu_i b_i$\n",
    "\n",
    "Теперь двойственная задача максимизации будет иметь вид:\n",
    "\n",
    "$ m + \\max_{\\nu} \\l\\{\\sum_{i=1}^m \\log(\\nu_i) - \\sum_{i=1}^m \\nu_i b_i\\r\\}$.\n",
    "s.t.\n",
    "$ \\sum_{i=1}^m \\nu_i a_i = 0$"
   ],
   "id": "72c88adc0d82bcf7"
  },
  {
   "cell_type": "markdown",
   "metadata": {},
   "source": [
    "__КОММЕНТАРИЙ: 4/4 баллов__"
   ],
   "id": "8ee13b34dbb01ec9"
  },
  {
   "cell_type": "markdown",
   "metadata": {},
   "source": [
    "__Задача 3. (16 баллов)__ \n",
    "Рассмотрим задачу следующего вида: \\begin{align*}\n",
    "         \\min_{x} \\ &c^Tx\\\\\n",
    "         \\text{s.t. } &Ax \\preceq b,\\\\\n",
    "         &x_i \\in \\{0, 1\\}, \\ \\forall i = 1, \\ldots, d.\n",
    "     \\end{align*}\n",
    "     Эта задачу довольно трудно решать, поэтому есть две релаксации, которые помогают построить нижнюю оценку на оптимальное значение исходной задачи.\n",
    "     Рассмотрим следующие две задачи оптимизации, которые схожи с начальной:\n",
    "     \\begin{align*}\n",
    "         \\min_{x} \\ &c^Tx\\\\\n",
    "         \\text{s.t. } &Ax \\preceq b,\\\\\n",
    "         &0 \\le x_i \\le 1, \\ \\forall i = 1, \\ldots, d\n",
    "     \\end{align*}\n",
    "     и \n",
    "     \\begin{align*}\n",
    "         \\min_{x} \\ &c^Tx\\\\\n",
    "         \\text{s.t. } &Ax \\preceq b,\\\\\n",
    "         &x_i(1 - x_i) = 0, \\ \\forall i = 1, \\ldots, d.\n",
    "     \\end{align*}\n",
    "     Первая задача называется LP-релаксацией исходной задачи, и, как следует из ее записи, она дает нижнюю оценку на наше исходное оптимальное значение, а вторая задача является прямой перезаписью исходной задачи.\n",
    "\n",
    "\n",
    "__а). (6 баллов)__ Выпишите двойственные задачи к LP-релаксации и ко второй задаче."
   ],
   "id": "a5f9a3964ca79649"
  },
  {
   "cell_type": "markdown",
   "metadata": {},
   "source": [
    "**к LP-релаксации:**\n",
    "$L(x, \\lambda) = c^Tx + \\lambda_1^T(Ax - b) - \\lambda_2^Tx + \\lambda_3^T(x-1)$.\n",
    "\n",
    "$\\nabla_xL = c + A^T\\lambda_1 - \\lambda_2 + \\lambda_3 = 0 \\rightarrow A^T\\lambda_1 =  \\lambda_2 -  c - \\lambda_3$.\n",
    "\n",
    "$g(\\lambda) = c^Tx + (\\lambda_2 -  c - \\lambda_3)^Tx - \\lambda_1^Tb - \\lambda_2^Tx + \\lambda_3^T(x-1) = -  \\lambda_1^Tb - \\lambda_3^T 1$.\n",
    "\n",
    "Тогда двойственная задача будет иметь вид\n",
    "\n",
    "\n",
    "$ \\max_{\\lambda} \\l(-\\lambda_1^Tb -\\lambda_3^T \\r)$.\n",
    "s.t.\n",
    "$\\lambda \\succeq 0 $  $\\l(\\lambda = (\\lambda_1^1 \\dots \\lambda_1^m \\lambda_2^1 \\dots \\lambda_2^d \\lambda_3^1 \\dots \\lambda_3^d)^T\\r)$\n",
    "$A^T\\lambda_1 =  \\lambda_2 -  c - \\lambda_3$.\n",
    "\n",
    "**ко второй задаче:**\n",
    "$L(x, \\lambda, \\nu) = c^Tx + \\lambda^T(Ax - b) +  \\sum_{i=1}^d \\nu_ix_i(x_i-1) = (c^T + \\lambda^TA)x + \\sum_{i=1}^d \\nu_ix_i(x_i-1) - \\lambda^T b$\n",
    "\n",
    "\n",
    "$ \\frac{\\partial L}{\\partial x_i} = c_i + \\lambda^T A_{i} + \\nu_i (2x_i - 1) = 0 \\rightarrow x_i = \\frac{-\\lambda^T A_{ i} - c_i + \\nu_i}{2\\nu_i}$, где $A_{i}$ --- $i$-ый столбец матрицы $A$.\n",
    "\n",
    "Двойственная функция:\n",
    "$g(\\lambda, \\nu) = (c^T + \\lambda^TA) X + \\sum_{i=1}^d \\nu_i X_i(X_i - 1) - \\lambda^Tb$, где $X = \\l(\\frac{-\\lambda^T A_{ i} - c_i + \\nu_i}{2\\nu_i}\\r)_{i=1}^d$\n",
    "\n",
    "Двойственная задача:\n",
    "$\\max_{\\nu, \\lambda} g $\\\n",
    "s.t.\n",
    "$\\lambda \\succeq 0$"
   ],
   "id": "1c8abb55490f8401"
  },
  {
   "cell_type": "markdown",
   "metadata": {},
   "source": [
    "__КОММЕНТАРИЙ: 6/6 баллов__"
   ],
   "id": "acc7c4d2893119c3"
  },
  {
   "cell_type": "markdown",
   "metadata": {},
   "source": [
    "__б). $\\triangle$ (10 баллов)__ Двойственная задача ко второй задаче называется Лагранжевой релаксацией. Как следствие, она тоже дает нижнюю оценку на оптимальное значение исходной задачи. Покажите, что нижние оценки, которые вытекают из LP-релаксации и Лагранжевой релаксации, совпадают."
   ],
   "id": "b708616417972179"
  },
  {
   "cell_type": "markdown",
   "metadata": {},
   "source": [
    "Обе релаксации имеют сильную двойственность по условию Слейтера. При этом, так как это LP задача, то рещение будет лежать на границе допустимого множества. Границы допустимых множеств для обоих релаксаций совпадают, значит и нижние оценки тоже будут совпадать."
   ],
   "id": "f6cf6e2877b1260a"
  },
  {
   "cell_type": "markdown",
   "metadata": {},
   "source": [
    "__КОММЕНТАРИЙ: 0/10 баллов.__ Почему выполнено условие Слейтера? Почему границы совпадают?"
   ],
   "id": "b3e5dede676d3137"
  },
  {
   "cell_type": "markdown",
   "metadata": {},
   "source": [
    "__Задача 4. $\\triangle$ (8 баллов)__  \n",
    "\n",
    "Рассмотрим следующую функцию $f: \\mathbb{R}^d \\to \\mathbb{R}$: \n",
    "    $$\n",
    "    f(x) = \\sum\\limits_{i=1}^r x_{[i]},\n",
    "    $$\n",
    "где $r$ - число от $1$ до $d$ и $x_{[1]} \\geq \\ldots \\geq x_{[d]}$. Другими словами, это функция равна сумме $r$ наибольших компонент вектора $x$."
   ],
   "id": "a52b3a47e812224c"
  },
  {
   "cell_type": "markdown",
   "metadata": {},
   "source": [
    "Покажите, что $f(x)$ равняется оптимальному значению следующей задачи оптимизации:\n",
    "    \\begin{align*}\n",
    "        \\max_{y \\in \\mathbb{R}^d} \\ &x^Ty\\\\\n",
    "        \\text{s.t. }&0 \\le y \\le 1.\\\\\n",
    "        &\\text{1}^Ty = r.\n",
    "    \\end{align*}"
   ],
   "id": "cbf181773ae5178e"
  },
  {
   "cell_type": "markdown",
   "metadata": {},
   "source": [
    "Покажем, что\n",
    "$$f^*(y) =\n",
    "\\begin{cases}\n",
    "0\\hspace{0.7cm} \\t{ при } 0 \\preceq y \\preceq 1,\\ \\sum_{i=1}^d y_i = r\\\\\n",
    "+\\infty \\hspace{0.5cm} \\t{ иначе}\n",
    "\\end{cases}$$\n",
    "Пусть $y$ имеет отрицательную координату $y_k < 0$. Взяв $x_k = -t$, и $x_i = 0$, при $i \\neq k$ имеем\n",
    "$$x^Ty - f(x) = -ty_k \\to +\\infty, \\t{ при } t \\to +\\infty$$\n",
    "Теперь пусть $y$ имеет координату $y_k > 1$. Взяв $x_k = t$, и $x_i = 0$ при $i \\neq k$ имеем\n",
    "$$x^Ty - f(x) = t(y_k -1) \\to +\\infty, \\t{ при } t \\to +\\infty$$\n",
    "Наконец, при $1^Ty \\neq r$ возьмём $x = t\\textbf{1}$. Имеем\n",
    "$$x^Ty - f(x) = t\\textbf{1}^Ty - tr = t(\\textbf{1}^Ty - 1)$$\n",
    "Неограниченная "
   ],
   "id": "e60898445ea0a5fb"
  },
  {
   "cell_type": "markdown",
   "metadata": {},
   "source": [
    "Постройте двойственную задачу к задаче из предыдущего пункта (изменив задачу максимизации на задачу минимизации)."
   ],
   "id": "2ffc3a03a49559a7"
  },
  {
   "cell_type": "markdown",
   "metadata": {},
   "source": [
    "$\\max_{y \\in \\mathbb{R}^d} x^Ty = \\min_{y \\in \\mathbb{R}^d} -x^Ty$.\n",
    "s.t.\n",
    "$ 0 \\le y \\le 1$\\\n",
    "$\\text{1}^Ty = r$\n",
    "\n",
    "Лагранжиан:\n",
    "$L(y, \\lambda, \\nu) = -x^Ty + \\nu(1^Ty - r) - \\lambda_1^Ty + \\lambda_2^T(y-1) = (-x^T + \\nu1^T - \\lambda_1^T + \\lambda_2^T)y -\\nu r - \\lambda_2^T1$.\n",
    "\n",
    "$\\nabla_yL = -x + 1\\nu - \\lambda_1 + \\lambda_2 = 0$\n",
    "\n",
    "Двойственная задача:\n",
    "\n",
    "$\\max_{\\lambda, \\nu} -\\nu r - \\lambda_2^T1$.\n",
    "s.t.\n",
    "$\\lambda \\succeq 0$, где $\\lambda = (\\lambda_1^1 \\ldots \\lambda_1^d \\lambda_2^1 \\ldots \\lambda_2^d )^T$\\\n",
    "$x = 1\\nu - \\lambda_1 + \\lambda_2$"
   ],
   "id": "f7b230954bb66a7f"
  },
  {
   "cell_type": "markdown",
   "metadata": {},
   "source": [
    "__КОММЕНТАРИЙ: 8/8 баллов__"
   ],
   "id": "6cb63653f6e2cb39"
  },
  {
   "cell_type": "markdown",
   "metadata": {},
   "source": [
    "__Задача 5. (4 балла)__ \n",
    "Рассмотрим следующую задачу минимизации:\n",
    "\\begin{align*}\n",
    "    \\min_{x \\in \\mathbb{R}^d} \\ &\\|Ax - b\\|_2^2\\\\\n",
    "    \\text{s.t. } &Gx = h,\n",
    "\\end{align*}\n",
    "где $A \\in \\mathbb{R}^{m \\times d}$, $\\text{rank } A = d$ и $G \\in \\mathbb{R}^{n \\times d}$, $\\text{rank }  G = n$. Выпишите ККТ для этой задачи, и найдите оптимальные значения $x^*$ и $\\nu^*$ прямых и двойственных переменных соответственно."
   ],
   "id": "2bc2a3cb5f2d8503"
  },
  {
   "cell_type": "markdown",
   "metadata": {},
   "source": [
    "0. $L(x, \\nu) = \\|Ax - b\\|^2 + \\nu^T(Gx - h)$\n",
    "1. $ \\frac{\\partial L}{\\partial x} = 2A^T(Ax^* - b) + G^T\\nu^* = 0 $\n",
    "2. $\\frac{\\partial L}{\\partial \\nu} =  Gx^* - h = 0$\n",
    "\n",
    "$x^* = (A^T A)^{-1} A^T b - \\frac{1}{2}(A^T A)^{-1}G^T v^* \\rightarrow G((A^T A)^{-1} A^T b - \\frac{1}{2}(A^T A)^{-1}G^T v^*) - h = 0$\\\n",
    "$ v^* = (GG^T)^{-1}\\l[2G(A^TA)^{-1}A^Tb - 2h\\r] $ \\\n",
    "$x^* = ((A^T A)^{-1} A^T b - \\frac{1}{2}(A^T A)^{-1}G^T ) \\cdot ((GG^T)^{-1}\\l[2G(A^TA)^{-1}A^Tb - 2h\\r])$"
   ],
   "id": "d28342e9fa1b7df0"
  },
  {
   "cell_type": "markdown",
   "metadata": {},
   "source": [
    "__КОММЕНТАРИЙ: 4/4 баллов__"
   ],
   "id": "31b01f8caa59764f"
  },
  {
   "cell_type": "markdown",
   "metadata": {},
   "source": [
    "__Задача 6. $\\triangle$ (10 баллов)__  Рассмотрим следующую задачу оптимизации\n",
    "\\begin{align*}\n",
    "    \\min_{x} \\ &f_0(x)\\\\\n",
    "    \\text{s.t. } &f_i(x) \\le 0, \\ i = 1, \\ldots, m,\n",
    "\\end{align*}\n",
    "где $f_0, \\ldots, f_m$ - выпуклые дифференцируемые функции.\n",
    "\n",
    "Предположим, что $x^* \\in \\mathbb{R}^d$ и $\\lambda^* \\in \\mathbb{R}^m$ удовлетворяют условиям ККТ для нашей задачи оптимизации. Выпишите условия ККТ для этой задачи и покажите, что тогда имеет место следующее неравенство:\n",
    "$$\\nabla f_0(x^*)^T(x - x^*) \\geq 0.$$"
   ],
   "id": "eab586b4d3d5edcf"
  },
  {
   "cell_type": "markdown",
   "metadata": {},
   "source": [
    "Условия ККТ:\n",
    "1. $f_i(x^*) \\leq 0, i = 1, \\dots, m$\n",
    "2. $\\lambda_i^* \\geq 0, i = 1, \\dots, m$\n",
    "3. $\\lambda_i^* f_i(x^*) = 0, i = 1, \\dots, m$\n",
    "4. $\\nabla f_0(x^*) + \\sum_{i=1}^m \\lambda_i^*\\nabla f_i(x^*) = 0$\n",
    "\n",
    "Док-во:\n",
    "1. Заметим, что все функции в задачи выпуклы, а значит условия ККТ являются и достаточными, и необходимым. Тогда точка $(x^*, \\lambda^*)$ --- седловая, так как она является оптимумом одновременно для прямой и двойственной задачи.\n",
    "2. По теореме Куна-Таккера о седловой точке $(x^*, \\lambda^*)$ --- седловая точка $\\longleftrightarrow x^*$ --- глобальное решение задачи оптимизации.\n",
    "2. $x^*$ --- глобальное решение задачи оптимизации  $\\longleftrightarrow \\nabla f_0(x^*)^T(x - x^*) \\geq 0.$"
   ],
   "id": "93fd1fd8e7f2e955"
  },
  {
   "cell_type": "markdown",
   "metadata": {},
   "source": [
    "__КОММЕНТАРИЙ: 5/10 баллов.__ Надо проверить, что $(x^*, \\lambda^*)$ удовлетворяют условию, что градиент $L$ в этой точке равен $0$"
   ],
   "id": "e66aedc055fb04a"
  },
  {
   "cell_type": "markdown",
   "metadata": {},
   "source": [
    "### Часть 3. $\\triangle$ Игра\n",
    "\n",
    "На лекциях мы познакомились с экстраградиентным методом и зеркальным спуском. Первый предназначен для решения седловых задач, второй - для лучшего учета \"геометрии\" задачи. Попробуем объединить эти две идеи и получим следующий метод:\n",
    "\\begin{align}\n",
    "\\label{eq:1}\n",
    "x^{k+1/2} &= \\arg\\min_{x \\in \\mathcal{X}} (\\gamma\\langle \\nabla_x f(x^k, y^k), x\\rangle + V(x,x^k))\n",
    "\\\\\n",
    "y^{k+1/2} &= \\arg\\min_{y \\in \\mathcal{Y}} (\\gamma\\langle - \\nabla_y f(x^k, y^k), y\\rangle + V(y,y^k))\n",
    "\\\\\n",
    "\\label{eq:2}\n",
    "x^{k+1} &= \\arg\\min_{x \\in \\mathcal{X}} (\\gamma\\langle \\nabla_x f(x^{k+1/2}, y^{k+1/2}), x\\rangle + V(x,x^k))\n",
    "\\\\\n",
    "y^{k+1} &= \\arg\\min_{y \\in \\mathcal{Y}} (\\gamma\\langle - \\nabla_y f(x^{k+1/2}, y^{k+1/2}), y\\rangle + V(y,y^k)),\n",
    "\\end{align}\n",
    "где $\\gamma > 0$ - шаг метода.\n",
    "Для краткости введем обозначения, как на лекции:\n",
    "$$\n",
    "z = \\binom{x}{y} \\quad F(z) = F(x,y) = \\binom{\\nabla_x f(x, y)}{- \\nabla_y f(x, y)}\n",
    "$$\n",
    "В новых обозначениях метод выше можно переписать, как\n",
    "\\begin{align}\n",
    "z^{k+1/2} &= \\arg\\min_{z \\in \\mathcal{Z}} (\\gamma\\langle F(z^k), z\\rangle + V(z,z^k))\n",
    "\\\\\n",
    "z^{k+1} &= \\arg\\min_{z \\in \\mathcal{Z}} (\\gamma\\langle F(z^{k+1/2}), z\\rangle + V(z,z^k)).\n",
    "\\end{align}\n",
    "\n",
    "Пусть оператор $F$ является $L$-Липшицевым (следует из Липшицевости градиентов):\n",
    "$$\n",
    "\\| F(z_1) - F(z_2) \\|_* \\leq L \\| z_1 - z_2\\|,\n",
    "$$\n",
    "а функция $f$ является выпукло-вогнутой."
   ],
   "id": "339cd1e84704f140"
  },
  {
   "cell_type": "markdown",
   "metadata": {},
   "source": [
    "__Задача 1. $\\triangle$ (10 баллов)__ Попробуем доказать сходимость данного метода, для этого понадобятся доказательства экстраградиентного метода и зеркального спуска. Объясняйте переходы там, где они кажутся неочевидными.\n",
    "\n",
    "Для начала запишем условие оптимальности для каждой из строк рассматриваемого метода (см. как мы писали условие оптимальности в случае зеркального спуска). Для первой строки метода запишите с участие произвольной точки $u \\in \\mathcal{Z}$:"
   ],
   "id": "85c82dff88eef46c"
  },
  {
   "cell_type": "markdown",
   "metadata": {},
   "source": [
    "$$\\langle \\gamma F(z^k) + \\nabla d(z^{k+1/2}) - \\nabla d(z^k), z^{k+1/2} - u \\rangle \\leq 0$$"
   ],
   "id": "f18b1beca22481b4"
  },
  {
   "cell_type": "markdown",
   "metadata": {},
   "source": [
    "Для второй строки метода запишите с участие произвольной точки $z \\in \\mathcal{Z}$:"
   ],
   "id": "6fa6273cfaadd51f"
  },
  {
   "cell_type": "markdown",
   "metadata": {},
   "source": [
    "$$\\langle \\gamma F(z^{k+1/2}) + \\nabla d(z^{k+1}) - \\nabla d(z^k), z^{k+1} - z \\rangle \\leq 0$$"
   ],
   "id": "8668e375eb565081"
  },
  {
   "cell_type": "markdown",
   "metadata": {},
   "source": [
    "Далее воспользуемся \"равенством параллелограмма\" для дивергенции Брэгмана (мы его также доказывали на лекции про зеркальный спуск) и применим его к каждому из полученных выше условий оптимальности:"
   ],
   "id": "db7f0662a251fe11"
  },
  {
   "cell_type": "markdown",
   "metadata": {},
   "source": [
    "$$\\langle \\gamma F(z^k), z^{k+1/2} - u\\rangle + V(u, z^{k + 1/2}) + V(z^{k + 1/2}, z^k) - V(u, z^k) \\leq 0$$\n",
    "$$\\langle \\gamma F(z^{k + 1/2}), z^{k+1} - z\\rangle + V(z, z^{k+1}) +  V(z^{k+1}, z^{k}) -  V(z, z^k) \\leq 0$$"
   ],
   "id": "1cdac72c9213f0ee"
  },
  {
   "cell_type": "markdown",
   "metadata": {},
   "source": [
    "Сложим два выражения:"
   ],
   "id": "5184444af35bb3fb"
  },
  {
   "cell_type": "markdown",
   "metadata": {},
   "source": [
    "$$\\langle \\gamma F(z^k), z^{k+1/2} - u\\rangle + \\langle \\gamma F(z^{k + 1/2}), z^{k+1} - z\\rangle + V(u, z^{k + 1/2}) + V(z, z^{k+1}) + V(z^{k + 1/2}, z^k) + V(z^{k+1}, z^{k}) - V(u, z^k) - V(z, z^k) \\leq 0$$"
   ],
   "id": "4be4a8dd602ffac5"
  },
  {
   "cell_type": "markdown",
   "metadata": {},
   "source": [
    "В качестве точки $u$ подставьте некоторую точку из алгоритма ($z^k$, $z^{k+1/2}, z^{k+1}$). Подумайте, какая точка может подойти лучше (обратите внимание на доказательство экстраградиентного метода):"
   ],
   "id": "db0914418437a93e"
  },
  {
   "cell_type": "markdown",
   "metadata": {},
   "source": [
    "Пусть $u = z^{k+1}$\n",
    "$$\\langle \\gamma F(z^{k + 1/2}), (z^{k+1} - z^{k+1/2}) + (z^{k+1/2} - z)\\rangle  + \\langle \\gamma F(z^k), z^{k+1/2} - z^{k+1}\\rangle  + V(z^{k+1}, z^{k + 1/2}) + V(z, z^{k+1}) + V(z^{k + 1/2}, z^k) - V(z, z^k) \\leq 0 $$"
   ],
   "id": "a761994de78640ed"
  },
  {
   "cell_type": "markdown",
   "metadata": {},
   "source": [
    "Проведите некоторые алгебраические преобразования с полученным неравенством, чтобы в итоге неравенство имело вид:\n",
    "$\\langle F(\\tilde z), \\tilde z - z \\rangle \\leq \\ldots$, где $\\tilde z$ - некоторая точка из алгоритма ($z^k$, $z^{k+1/2}, z^{k+1}$):"
   ],
   "id": "4dd77d750ec179d5"
  },
  {
   "cell_type": "markdown",
   "metadata": {},
   "source": [
    "$$\\langle F(z^{k + 1/2}), z^{k+1/2} - z \\rangle \\leq \\langle  F(z^{k + 1/2}) - F(z^k), z^{k+1/2} - z^{k+1}\\rangle - \\frac{1}{\\gamma}  \\l(V(z^{k+1}, z^{k + 1/2}) + V(z, z^{k+1}) + V(z^{k + 1/2}, z^k) - V(z, z^k) \\r) $$"
   ],
   "id": "cf1ec5b55ac9d7e4"
  },
  {
   "cell_type": "markdown",
   "metadata": {},
   "source": [
    "Воспользуйтесь неравенством Коши-Буняковского-Шварца, чтобы далее можно воспользоваться, тем, что оператор $F$ является $L$-Липшецевым:"
   ],
   "id": "cd3c6c22742b36f1"
  },
  {
   "cell_type": "markdown",
   "metadata": {},
   "source": [
    "$$\\langle  F(z^{k + 1/2}) - F(z^k), z^{k+1/2} - z^{k+1}\\rangle \\leq \\|F(z^{k + 1/2}) - F(z^k)\\| \\cdot \\|z^{k+1/2} - z^{k+1}\\| $$"
   ],
   "id": "b02211172aea1943"
  },
  {
   "cell_type": "markdown",
   "metadata": {},
   "source": [
    "А теперь воспользуйтесь $L$-Липшецевостью оператора $F$:"
   ],
   "id": "c98e9b326aeb275b"
  },
  {
   "cell_type": "markdown",
   "metadata": {},
   "source": [
    "$$\\|F(z^{k + 1/2}) - F(z^k)\\| \\leq L \\|z^{k + 1/2} - z^k\\|$$\n",
    "$$\\langle F(z^{k + 1/2}), z^{k+1/2} - z \\rangle \\leq L \\|z^{k + 1/2} - z^k\\| \\cdot \\|z^{k+1/2} - z^{k+1}\\| - \\frac{1}{\\gamma}  \\l(V(z^{k+1}, z^{k + 1/2}) + V(z, z^{k+1}) + V(z^{k + 1/2}, z^k) - V(z, z^k) \\r) $$"
   ],
   "id": "61dc821f32075981"
  },
  {
   "cell_type": "markdown",
   "metadata": {},
   "source": [
    "Вспомните, что если дивергенция Брэгмана порождена 1-сильно выпуклой функцией, то (как уже видели на лекции) $V(x,y) \\geq \\frac{1}{2} \\| x - y\\|^2$. Воспользуйтесь этим свойством, подберите шаг $\\gamma$ так, что в итоге получить результат вида: $\\langle F(\\tilde z), \\tilde z - z \\rangle \\leq R_k - R_{k+1}$:"
   ],
   "id": "6b5ad4ce308a9d46"
  },
  {
   "cell_type": "markdown",
   "metadata": {},
   "source": [
    "$$\\langle F(z^{k + 1/2}), z^{k+1/2} - z \\rangle \\leq L \\|z^{k + 1/2} - z^k\\| \\cdot \\|z^{k+1/2} - z^{k+1}\\| - \\frac{1}{2\\gamma}  \\l(\\|z^{k+1} - z^{k + 1/2}\\|^2 + \\|z^{k + 1/2} - z^k\\|^2 + 2V(z, z^{k+1}) - 2 V(z, z^k) \\r) $$\n",
    "Если $\\gamma \\leq \\frac{1}{L}$, то\n",
    "$$\\langle F(z^{k + 1/2}), z^{k+1/2} - z \\rangle \\leq -\\frac{L}{2} \\l(\\|z^{k+1} - z^{k+1/2}\\| -\\|z^{k + 1/2} - z^k\\|\\r)^2 - LV(z, z^{k+1}) + LV(z, z^k) \\leq L(V(z, z^k) - V(z, z^{k+1}))$$"
   ],
   "id": "381145a3fedd6dd7"
  },
  {
   "cell_type": "markdown",
   "metadata": {},
   "source": [
    "Доведите доказательство до конца (смотрите доказательство экстраградиентного метода) и сформулируйте теорему о сходимости предложенного метода для выпукло-вогнутых $L$-гладких седловых задач."
   ],
   "id": "32975685256b8ecd"
  },
  {
   "cell_type": "markdown",
   "metadata": {},
   "source": [
    "Так как $f$ является выпукло-вогнутой.\n",
    "$$f(x^{k+1/2}, y) - f(x, y^{k+1/2}) \\leq L(V(z, z^k) - V(z, z^{k+1})) $$\n",
    "Суммируем по всем k:\n",
    "$$\\frac{1}{K} \\sum_{k=0}^K\\l(f(x^{k+1/2}, y) - f(x, y^{k+1/2})rright) \\leq \\frac{L}{K}V(z^0, z)$$\n",
    "Применяем неравенство Йенсена для выпукло-вогнутой функции:\n",
    "$$f\\l(\\frac{1}{K} \\sum_{k=0}^K(x^{k+1/2}, y)\\r) - f\\l(\\frac{1}{K} \\sum_{k=0}^K(x, y^{k+1/2})\\r) \\leq \\frac{L}{K}V(z^0, z)$$\n",
    "Таким образов, для данного алгоритма справедлива оценка сходимости выше (в случае выпукло-вогнутых $L$-гладких седловых задач)"
   ],
   "id": "58a377e3040ad135"
  },
  {
   "cell_type": "markdown",
   "metadata": {},
   "source": [
    "__КОММЕНТАРИЙ: 10/10 баллов__"
   ],
   "id": "e235fd678bc977cc"
  },
  {
   "cell_type": "markdown",
   "metadata": {},
   "source": [
    "Возьмем $n = 10$. Следующий код генерирует некоторое распределение ценностей домов $w$ и матрицу $A$."
   ],
   "id": "d02ae7d459ff5c65"
  },
  {
   "cell_type": "code",
   "execution_count": 34,
   "metadata": {
    "ExecuteTime": {
     "end_time": "2023-11-12T21:00:15.007357700Z",
     "start_time": "2023-11-12T21:00:14.634335Z"
    }
   },
   "outputs": [],
   "source": [
    "import numpy as np\n",
    "import matplotlib.pyplot as plt\n",
    "from matplotlib import cm"
   ],
   "id": "1888a6e491b8589b"
  },
  {
   "cell_type": "code",
   "execution_count": 35,
   "metadata": {
    "ExecuteTime": {
     "end_time": "2023-11-12T21:00:15.007357700Z",
     "start_time": "2023-11-12T21:00:14.640597Z"
    }
   },
   "outputs": [],
   "source": [
    "def dist(i, j, n):\n",
    "    i_x = i % n\n",
    "    i_y = i // n\n",
    "    j_x = j % n\n",
    "    j_y = j // n\n",
    "    return np.linalg.norm([i_x - j_x, i_y - j_y], 2)\n",
    "\n",
    "def game(n = 10):\n",
    "    i_max = (n // 2) * (n + 1)\n",
    "    w = np.array([1. / (dist(i, i_max, n) + 20) for i in range(n ** 2)])\n",
    "    A = np.zeros([n ** 2, n ** 2])\n",
    "    for i in range(n ** 2):\n",
    "        for j in range(n ** 2):\n",
    "            A[i,j] = w[j] * (1 - np.exp(- dist(i, j, n)))\n",
    "    return A, w"
   ],
   "id": "2b067a0565fd18d7"
  },
  {
   "cell_type": "code",
   "execution_count": 36,
   "metadata": {
    "ExecuteTime": {
     "end_time": "2023-11-12T21:00:15.036358500Z",
     "start_time": "2023-11-12T21:00:14.649566300Z"
    }
   },
   "outputs": [],
   "source": [
    "n = 10\n",
    "A, w = game(n)"
   ],
   "id": "3a4d849d16a7ba99"
  },
  {
   "cell_type": "code",
   "execution_count": 37,
   "metadata": {
    "ExecuteTime": {
     "end_time": "2023-11-12T21:00:15.044358500Z",
     "start_time": "2023-11-12T21:00:14.712938700Z"
    }
   },
   "outputs": [
    {
     "data": {
      "image/png": "[encoded data removed]",
      "text/plain": [
       "<Figure size 640x480 with 1 Axes>"
      ]
     },
     "metadata": {},
     "output_type": "display_data"
    }
   ],
   "source": [
    "X, Y = np.meshgrid(range(n), range(n))\n",
    "X = X.ravel()\n",
    "Y = Y.ravel()\n",
    "\n",
    "fig = plt.figure()\n",
    "ax = fig.add_subplot(projection='3d')\n",
    "\n",
    "ax.scatter(X, Y, w, c = w, cmap=cm.coolwarm)\n",
    "ax.set_title(f\"Веса\", fontsize = 10, fontweight='bold')\n",
    "\n",
    "plt.show()"
   ],
   "id": "6a8c00d09363384d"
  },
  {
   "cell_type": "markdown",
   "metadata": {},
   "source": [
    "На графике выше визуализированны стоимости домов в городе: в центре самые дорогие, на окраинах бедные."
   ],
   "id": "3a785b643afbb7d"
  },
  {
   "cell_type": "markdown",
   "metadata": {},
   "source": [
    "__Задача 2. $\\triangle$ (20 баллов)__ Рассмотрим следующую билинейную задачу на симплексах:\n",
    "$$\n",
    "\\min_{x \\in \\mathcal{X}} \\max_{y \\in \\mathcal{Y}} f(x,y) = x^T A y,\n",
    "$$\n",
    "где $X = \\{ x \\in \\mathbb{R}^d \\mid x_i \\geq 0 , \\sum_{i=1}^d x_i = 1\\}$, $Y = \\{ y \\in \\mathbb{R}^d \\mid y_i \\geq 0 , \\sum_{i=1}^d x_i = 1\\}$, $A \\in \\mathbb{R^{d \\times d}}$.\n",
    "\n",
    "Такую задачу часто называют матричной игрой. В этом задании будет конкретная игра \"Вор и полицейский\".\n",
    "\n",
    "Пусть город представляет собой квадрат из $n \\times n$ маленьких квадратиков. В каждом квадратике стоит дом и полицейская будка рядом с ним. Пусть так же известны ценность дома для вора $w_{i}$ в квадрате $i$. Каждую ночь вор выбирает, какой дом ограбить, а полицейский выбирает будку, в которой будет дежурить. Вероятность поимки вора, если вор грабит дом в квадрате $j$, а полисмен дежурит в квадрате $i$ равна:\n",
    "    $$\\exp(- \\alpha  \\cdot \\text{dist}(i,j)).$$ \n",
    "Здесь $\\alpha > 0$ - некторый параметр, т.е. вероятность уменьшается с увеличением расстояния между квадратами.\n",
    "Вор хочет максимизировать свою ожидаемую прибыль:\n",
    "    $$w_j \\l(1 -  \\exp(- \\alpha \\cdot \\text{dist}(i,j))r).$$\n",
    "Полицейский наоборот - минимизировать.\n",
    "\n",
    "Такую постановку можно формализовать в виде матричной игры: занумеруем все дома от $0$ до $d = n^2 - 1$, получится вектор $w \\in \\mathbb{R}^{d}$ стоимостей домов. В элемент $A_{ij}$ матрицы $A$ запишем:\n",
    "$$A_{ij} = w_j \\l(1 - \\exp(- \\alpha \\cdot \\text{dist}(i,j))\\r),$$\n",
    "т.е. ожидаемую прибыль вора, если он будет грабить дом с номером $j$, а полицейский дежурить в доме с номером $i$. В векторах $x$ и $y$ будут хранится вероятностные стратегии для полицийского и вора: вероятность выбрать тот или иной дом для дежурства или грабежа. Цель задания найти равновестные стратегии. "
   ],
   "id": "4006b3bc5ee707ee"
  },
  {
   "cell_type": "markdown",
   "metadata": {},
   "source": [
    "Для игровой задачи запишите явный вид метода, для которого доказывали сходимость в Задаче 1 (на лекции мы тоже работали с симплексом). Реализуйте в виде кода."
   ],
   "id": "d1eea58c10dfdf0e"
  },
  {
   "cell_type": "markdown",
   "metadata": {},
   "source": [
    "$$f(x, y) = x^T A y \\text{    на симплексе}$$\n",
    "$$z = \\binom{x}{y} \\quad F(z) = F(x,y) = \\binom{\\nabla_x f(x, y)}{- \\nabla_y f(x, y)} = \\binom{Ay}{- x^TA} $$\n",
    "\\begin{align}\n",
    "z^{k+1/2} &= \\arg\\min_{z \\in \\mathcal{Z}} (\\gamma\\langle F(z^k), z\\rangle + V(z,z^k))\n",
    "\\\\\n",
    "z^{k+1} &= \\arg\\min_{z \\in \\mathcal{Z}} (\\gamma\\langle F(z^{k+1/2}), z\\rangle + V(z,z^k)).\n",
    "\\end{align}\n",
    "$$V(x, y) = \\sum_{i=1}^d x_i \\log\\l(\\frac{x_i}{y_i}\\r)$$\n",
    "\n",
    "Выпишем лагранжиан:\n",
    "$L(z, \\lambda, \\nu) = \\langle \\gamma\\langle F(z^k), z\\rangle - \\sum_{i=1}^d \\lambda_i z_i + \\nu \\l(\\sum_i^{d}z_i - 1\\r)$"
   ],
   "id": "532863955cfc4341"
  },
  {
   "cell_type": "markdown",
   "metadata": {},
   "source": [
    "__КОММЕНТАРИЙ: 3/20 баллов__"
   ],
   "id": "a584f06c06ec750e"
  },
  {
   "cell_type": "markdown",
   "metadata": {},
   "source": [
    "Оцените константу $L$ (смотри Задачу 1) для игровой задачи. В качестве критерия используйте следующее выражение:\n",
    "$$\n",
    "\\text{gap}(x^k, y^k) = \\max_{y \\in \\mathcal{Y}} f(x^k, y) - \\min_{x \\in \\mathcal{X}} f(x, y^k), \\quad \\text{или} \\quad \\text{gap}\\l( \\frac{1}{k} \\sum_{i=0}^{k-1} x^i, \\frac{1}{k}\\sum_{i=0}^{k-1} y^k \\r)\n",
    "$$\n",
    "Выпишите явный вид подсчета $\\text{gap}(x^k, y^k)$ и реализуйте его (задача не зря называется билинейной)."
   ],
   "id": "43ce1ba3747d5189"
  },
  {
   "cell_type": "code",
   "execution_count": 38,
   "metadata": {
    "ExecuteTime": {
     "end_time": "2023-11-12T21:00:15.044358500Z",
     "start_time": "2023-11-12T21:00:14.829239300Z"
    }
   },
   "outputs": [],
   "source": [
    "#ваше решение (Code и Markdown)"
   ],
   "id": "dae8df5b61d87c8f"
  },
  {
   "cell_type": "markdown",
   "metadata": {},
   "source": [
    "С помощью реализованного метода решите игровую задачу. Рекомендуется подбирать шаг и брать его значительно больше $\\frac{1}{L}$. Постройте график сходимости: значение критерия сходимости от номера итерации."
   ],
   "id": "4ea089c6cefff9da"
  },
  {
   "cell_type": "code",
   "execution_count": 39,
   "metadata": {
    "ExecuteTime": {
     "end_time": "2023-11-12T21:00:15.044358500Z",
     "start_time": "2023-11-12T21:00:14.833600400Z"
    }
   },
   "outputs": [],
   "source": [
    "#ваше решение (Code и Markdown)"
   ],
   "id": "66f5c65a18595bad"
  },
  {
   "cell_type": "markdown",
   "metadata": {},
   "source": [
    "Визуализируйте решение $x^*$ и $y^*$ на карте города. В этом может помочь визуализация весов выше. Сделайте вывод. Насколько результат кажется натуральным и интепретируемым?"
   ],
   "id": "1a464895bda53306"
  },
  {
   "cell_type": "code",
   "execution_count": 40,
   "metadata": {
    "ExecuteTime": {
     "end_time": "2023-11-12T21:00:15.044358500Z",
     "start_time": "2023-11-12T21:00:14.838887600Z"
    }
   },
   "outputs": [],
   "source": [
    "#ваше решение (Code и Markdown)"
   ],
   "id": "9aa5fa95af7bb72a"
  }
 ],
 "metadata": {
  "kernelspec": {
   "display_name": "Python 3",
   "language": "python",
   "name": "python3"
  },
  "language_info": {
   "codemirror_mode": {
    "name": "ipython",
    "version": 3
   },
   "file_extension": ".py",
   "mimetype": "text/x-python",
   "name": "python",
   "nbconvert_exporter": "python",
   "pygments_lexer": "ipython3",
   "version": "3.8.3"
  }
 },
 "nbformat": 4,
 "nbformat_minor": 5
}
